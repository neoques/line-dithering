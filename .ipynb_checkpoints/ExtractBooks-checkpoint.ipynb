{
 "cells": [
  {
   "cell_type": "code",
   "execution_count": 1,
   "metadata": {},
   "outputs": [],
   "source": [
    "import os"
   ]
  },
  {
   "cell_type": "code",
   "execution_count": 2,
   "metadata": {},
   "outputs": [
    {
     "name": "stdout",
     "output_type": "stream",
     "text": [
      "C:\\Users\\Russell\\Dropbox\\Hobbies\\Caligraphy\n",
      "['.ipynb_checkpoints', 'Books', 'cubicspline.m', 'DotPaper', 'ExtractBooks.ipynb', 'fundamentalforms.jpg', 'lowercasecombos', 'lowercaseletters.jpg']\n"
     ]
    }
   ],
   "source": [
    "print(os.getcwd())\n",
    "print(os.listdir())"
   ]
  },
  {
   "cell_type": "code",
   "execution_count": 3,
   "metadata": {},
   "outputs": [
    {
     "name": "stdout",
     "output_type": "stream",
     "text": [
      "Requirement already satisfied: minecart in c:\\users\\russell\\anaconda3\\lib\\site-packages (0.3.0)\n",
      "Requirement already satisfied: six in c:\\users\\russell\\anaconda3\\lib\\site-packages (from minecart) (1.15.0)\n",
      "Requirement already satisfied: pdfminer3k in c:\\users\\russell\\anaconda3\\lib\\site-packages (from minecart) (1.3.4)\n",
      "Requirement already satisfied: ply in c:\\users\\russell\\anaconda3\\lib\\site-packages (from pdfminer3k->minecart) (3.11)\n"
     ]
    }
   ],
   "source": [
    "!pip install minecart"
   ]
  },
  {
   "cell_type": "code",
   "execution_count": 4,
   "metadata": {},
   "outputs": [],
   "source": [
    "import math\n",
    "import numpy as np\n",
    "import matplotlib.pyplot as plt\n",
    "import tensorflow as tf\n",
    "import minecart\n",
    "import skimage \n",
    "\n",
    "from skimage import io, color, filters\n",
    "from skimage.transform import resize"
   ]
  },
  {
   "cell_type": "code",
   "execution_count": 5,
   "metadata": {},
   "outputs": [
    {
     "name": "stdout",
     "output_type": "stream",
     "text": [
      "['19th century swedish copybook.pdf', 'Ames Guide to Self-Instruction.pdf', 'Ames Notebook.pdf', 'Bible Pearls of Promise.pdf', 'Compendium of Real Pen Work.pdf', 'Kelchner - Complete Compendium of Plain Practical Penmanship.pdf']\n"
     ]
    }
   ],
   "source": [
    "all_books = os.listdir(\"books\")\n",
    "print(all_books)"
   ]
  },
  {
   "cell_type": "code",
   "execution_count": 26,
   "metadata": {},
   "outputs": [],
   "source": [
    "GLOBAL_PATCHSIZE = (80, 80)\n",
    "GLOBAL_CHANNELS = (1, )"
   ]
  },
  {
   "cell_type": "code",
   "execution_count": 25,
   "metadata": {},
   "outputs": [],
   "source": [
    "pdffile = open(\"books\\\\\" + all_books[1], 'rb')\n",
    "doc = minecart.Document(pdffile)\n",
    "\n",
    "page = doc.get_page(0) # getting a single page\n",
    "pages = []\n",
    "for page in doc.iter_pages():\n",
    "    im = page.images[0].as_pil()  # requires pillow\n",
    "#     display(im)\n",
    "    pages.append(np.asarray(im))\n"
   ]
  },
  {
   "cell_type": "code",
   "execution_count": 56,
   "metadata": {},
   "outputs": [],
   "source": [
    "class DataGenerator(tf.keras.utils.Sequence):\n",
    "    'Generates data for Keras'\n",
    "    def __init__(self, pages, num_of_states, is_grayscale = True, batch_size=32, dim=(80,80), n_channels=3,\n",
    "                 n_classes=2, shuffle=True):\n",
    "        'Initialization'\n",
    "        self.grayscale = is_grayscale #Input is grayscale\n",
    "        if self.grayscale:\n",
    "            self.grayscale = True\n",
    "            self.n_channels = 1 #Only applies if grayscale = False\n",
    "        else:\n",
    "            self.n_channels = n_channels #Only applies if grayscale = False\n",
    "\n",
    "        self.pages = pages\n",
    "        self.dim = dim\n",
    "        self.batch_size = batch_size\n",
    "        self.n_classes = n_classes\n",
    "        self.shuffle = shuffle\n",
    "        self.states = list(zip(list(range(num_of_states)), [0]*num_of_states))\n",
    "        self.on_epoch_end()\n",
    "\n",
    "    def __len__(self):\n",
    "        'Denotes the number of batches per epoch'\n",
    "        return int(np.floor(len(self.states) / self.batch_size))\n",
    "\n",
    "    def __getitem__(self, index):\n",
    "        'Generate one batch of data'\n",
    "        # Generate indexes of the batch\n",
    "        indexes = self.indexes[index*self.batch_size:(index+1)*self.batch_size]\n",
    "\n",
    "        # Find list of IDs\n",
    "        states = [self.states[k] for k in indexes]\n",
    "\n",
    "        # Generate data\n",
    "        X, Y = self.__data_generation(states)\n",
    "#         print(\"Feeding X data with shape {}\".format(X.shape))\n",
    "#         print(\"Feeding Y assignments with shape {}\".format(Y.shape))\n",
    "        return X, Y\n",
    "\n",
    "    def on_epoch_end(self):\n",
    "        'Updates indexes after each epoch'\n",
    "        self.indexes = np.arange(len(self.states))\n",
    "        if self.shuffle == True:\n",
    "            np.random.shuffle(self.indexes)\n",
    "\n",
    "    def __data_generation(self, states):\n",
    "        'Generates data containing batch_size samples' # X : (n_samples, *dim, n_channels)\n",
    "        # Initialization\n",
    "        X = np.empty((self.batch_size, *self.dim, self.n_channels))\n",
    "        y = np.empty((self.batch_size, *self.dim), dtype=int)\n",
    "        \n",
    "        page_indexs = np.random.randint(0, len(pages), size = len(states))\n",
    "        # Generate data\n",
    "        for i, a_state in enumerate(states):\n",
    "            a_page = self.pages[page_indexs[i]]\n",
    "#             print(\"current state {}\".format(a_state))\n",
    "#             print(\"current image dim is {}\".format(self.dim + (self.n_channels, )))\n",
    "#             print(\"current page shape is {}\".format(a_page.shape))\n",
    "            if len(a_page.shape)>2:\n",
    "                a_page = tf.image.rgb_to_grayscale(a_page)\n",
    "            else:\n",
    "                a_page = tf.expand_dims(a_page, axis=-1)\n",
    "            X[i,] = tf.image.stateless_random_crop(a_page, self.dim + (self.n_channels, ), a_state)\n",
    "        \n",
    "        #For now the output is the greyscaled input\n",
    "        return X, X[:, 3:-3, 3:-3, :]"
   ]
  },
  {
   "cell_type": "code",
   "execution_count": 57,
   "metadata": {},
   "outputs": [],
   "source": [
    "model = tf.keras.Sequential(\n",
    "    [\n",
    "        tf.keras.Input(shape=GLOBAL_PATCHSIZE + GLOBAL_CHANNELS),\n",
    "        tf.keras.layers.Conv2D(32, kernel_size=(3, 3), activation=\"relu\"),\n",
    "        tf.keras.layers.BatchNormalization(),\n",
    "        tf.keras.layers.Conv2D(32, kernel_size=(3, 3), activation=\"relu\"),\n",
    "        tf.keras.layers.BatchNormalization(),\n",
    "        tf.keras.layers.Conv2D(1, kernel_size=(3, 3), activation=\"relu\"),\n",
    "    ]\n",
    ")"
   ]
  },
  {
   "cell_type": "code",
   "execution_count": 58,
   "metadata": {},
   "outputs": [
    {
     "name": "stdout",
     "output_type": "stream",
     "text": [
      "312/312 [==============================] - 88s 280ms/step - loss: 52839.3971\n"
     ]
    },
    {
     "data": {
      "text/plain": [
       "<tensorflow.python.keras.callbacks.History at 0x19237fe8340>"
      ]
     },
     "execution_count": 58,
     "metadata": {},
     "output_type": "execute_result"
    }
   ],
   "source": [
    "model.compile(tf.keras.optimizers.Adam(), loss=tf.keras.losses.MSE)"
   ]
  },
  {
   "cell_type": "markdown",
   "metadata": {},
   "source": [
    "model.fit(DataGenerator(pages, 10000))"
   ]
  },
  {
   "cell_type": "code",
   "execution_count": null,
   "metadata": {},
   "outputs": [],
   "source": []
  }
 ],
 "metadata": {
  "kernelspec": {
   "display_name": "Python 3",
   "language": "python",
   "name": "python3"
  },
  "language_info": {
   "codemirror_mode": {
    "name": "ipython",
    "version": 3
   },
   "file_extension": ".py",
   "mimetype": "text/x-python",
   "name": "python",
   "nbconvert_exporter": "python",
   "pygments_lexer": "ipython3",
   "version": "3.8.3"
  }
 },
 "nbformat": 4,
 "nbformat_minor": 4
}
