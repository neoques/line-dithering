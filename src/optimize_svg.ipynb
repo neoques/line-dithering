{
 "cells": [
  {
   "cell_type": "markdown",
   "metadata": {
    "id": "n6jZcUuedL85"
   },
   "source": [
    "There's something very rewarding about watching a pen plotter's dance as it traces out a graphic you've previously only seen on a screen. It can also be a stark reminder of how forgiving screen graphics are by comparison, as images that render in miliseconds on screen can take ages to plot on paper.\n",
    "\n",
    "Each line in a plot takes time in two ways: it takes time to trace the line, and it takes time to move the pen into place from the last position. As a result of the latter, the drawing order of the lines can make a big difference to how long a plot takes. It's common to generate an image that can be sped up by an order of magnitude just by choosing a better drawing order.\n",
    "\n",
    "Some folks in the plotting community have already been generous enough to share route optimizers: [Anders Hoff](https://twitter.com/inconvergent)'s [svgsort](https://github.com/inconvergent/svgsort), [Trammell Hudson](https://twitter.com/qrs)'s [vecsort](https://github.com/osresearch/polargraph/blob/master/vecsort.c), [Windell Oskay](https://github.com/oskay)'s [AxiDraw patch](https://github.com/evil-mad/axidraw/issues/4), [Romain Testuz](https://github.com/Daekkyn)'s [InkscapeOptimizePath](https://github.com/Daekkyn/inkscapeOptimizePath).\n",
    "\n",
    "Most of these use a “greedy” approach, in which the path is built by iteratively tracing the *closest* untraced path to the current position.  (InkscapeOptimizePath is the exception: it uses an approach based on [Eulerian cycles](http://mathworld.wolfram.com/EulerianCycle.html).) In this post I investigate whether we can do better than a greedy algorithm using a more sophisticated path solver."
   ]
  },
  {
   "cell_type": "markdown",
   "metadata": {
    "id": "Swz_kuWLdL89"
   },
   "source": [
    "# Environment Setup\n",
    "\n",
    "As an optimization package, we'll use [Google's Optimization Tools](https://developers.google.com/optimization/). For the greedy approach, we'll use the [rtree](https://pypi.python.org/pypi/Rtree/) package. It's easiest to install through [Conda](https://conda.io/docs/) since the [libspatialindex](https://libspatialindex.github.io/) dependency is installed automatically. Also, the [svgpathtools](https://github.com/mathandy/svgpathtools) package greatly simplifies parsing and writing paths from SVG files."
   ]
  },
  {
   "cell_type": "code",
   "execution_count": 2,
   "metadata": {},
   "outputs": [],
   "source": [
    "import IPython\n",
    "import svgpathtools\n",
    "import colorsys\n",
    "import tempfile\n",
    "import os\n",
    "import rtree\n",
    "from collections import Counter\n"
   ]
  },
  {
   "cell_type": "markdown",
   "metadata": {
    "id": "_RQH0ZBkdL8_"
   },
   "source": [
    "## Visualizing the Problem\n",
    "\n",
    "I have an SVG file that I'd like to plot. Here's what it looks like:"
   ]
  },
  {
   "cell_type": "markdown",
   "metadata": {
    "id": "9A2zpZ95dL9A"
   },
   "source": [
    "Unfortunately, the drawing order is very inefficient. To show you what I mean, let's process the image in two ways:\n",
    "1. Colorizing the lines based on drawing order.\n",
    "2. Adding a line for each “pen transit” that is necessary to draw the lines in order."
   ]
  },
  {
   "cell_type": "markdown",
   "metadata": {
    "id": "f_4Opym1dL9A"
   },
   "source": [
    "We can use `svg2paths` to grab all the paths as a list. This function also returns a dictionary of attributes for each path, but we can ignore those."
   ]
  },
  {
   "cell_type": "code",
   "execution_count": 6,
   "metadata": {
    "id": "edDeBRp7dL9A",
    "tags": []
   },
   "outputs": [],
   "source": [
    "# paths, _ = svgpathtools.svg2paths(file_name)"
   ]
  },
  {
   "cell_type": "markdown",
   "metadata": {
    "id": "dsalvybkdL9B"
   },
   "source": [
    "To colorize the lines, `generate_color` returns a color string from an [HSV value](https://en.wikipedia.org/wiki/HSL_and_HSV). By using different values of hue between 0 and 1, we get a nice rainbow gradient. `visualize_pen_transits` takes a list of paths like `svgpathtools` produces and renders a visualization of the transits with the notebook."
   ]
  },
  {
   "cell_type": "code",
   "execution_count": 3,
   "metadata": {
    "id": "HvF7U-radL9B",
    "tags": []
   },
   "outputs": [],
   "source": [
    "def generate_color(hue, saturation=1.0, value=1.0):\n",
    "    rgb = colorsys.hsv_to_rgb(hue, saturation, value)\n",
    "    return 'rgb({},{},{})'.format(*[int(x*255) for x in rgb])\n",
    "\n",
    "def visualize_pen_transits(paths):\n",
    "    # We will construct a new image by storing (path, attribute)\n",
    "    # pairs in this list.\n",
    "    parts = list()\n",
    "    \n",
    "    last_end = None\n",
    "    for i, path in enumerate(paths):\n",
    "        start = path.start\n",
    "        end = path.end\n",
    "        \n",
    "        # Generate a color based on how far along in the plot we are.\n",
    "        frac = i / (len(paths) - 1)\n",
    "        color = generate_color(frac, 1.0, 1.0)\n",
    "\n",
    "        if last_end is not None:\n",
    "            # If this isn't our first path, add a line between the end of\n",
    "            # the last path and the start of this one.\n",
    "            parts.append((\n",
    "                svgpathtools.Line(last_end, start),\n",
    "                {\n",
    "                    'stroke': 'black',\n",
    "                    'fill': 'none',\n",
    "                }\n",
    "            ))\n",
    "            \n",
    "        last_end = end\n",
    "        \n",
    "        # Also draw a faded, colorized version of this path.\n",
    "        parts.append((\n",
    "            path,\n",
    "            {\n",
    "                'stroke': color,\n",
    "                'fill': 'none',\n",
    "                'opacity': '0.5'\n",
    "            }\n",
    "        ))\n",
    "    \n",
    "    # Write the SVG to a temporary file and load it back as an object that\n",
    "    # will appear in the notebook.\n",
    "    with tempfile.TemporaryDirectory() as svg_path:\n",
    "        svg_file = os.path.join(svg_path, 'image.svg')\n",
    "        new_paths, new_attrs = zip(*parts)\n",
    "        svgpathtools.wsvg(new_paths, attributes=new_attrs, filename=svg_file)\n",
    "        svg = IPython.display.SVG(svg_file)\n",
    "    return svg"
   ]
  },
  {
   "cell_type": "markdown",
   "metadata": {
    "id": "fkFPy8dkdL9C"
   },
   "source": [
    "Let's see what the input image looks like when we visualize the transits:"
   ]
  },
  {
   "cell_type": "code",
   "execution_count": 4,
   "metadata": {
    "id": "4sYSdjx2dL9C",
    "outputId": "09d34335-54d0-4a4b-d506-cab315568c06"
   },
   "outputs": [],
   "source": [
    "# visualize_pen_transits(paths)"
   ]
  },
  {
   "cell_type": "markdown",
   "metadata": {
    "id": "OoxKUpthdL9D"
   },
   "source": [
    "Ick! All those lines represent time the pen is just flying through the air instead of writing on the page. Surely we can do better."
   ]
  },
  {
   "cell_type": "markdown",
   "metadata": {
    "id": "7293Rb9adL9D"
   },
   "source": [
    "## Quantifying the Problem\n",
    "\n",
    "Now we know what a bad solution looks like, but how do we measure it? One way is to simply add up the distance that the pen travels in the “pen up” (not drawing) position. The distance in the “pen down” position is the same no matter what order we draw the lines in, so we can just ignore it.\n",
    "\n",
    "`svgpathtools` stores an `(x, y)` coordinate pair as the complex number `x + y*j` (in Python, `j` represents the imaginary component). This simplifies the Euclidean distance calculation:"
   ]
  },
  {
   "cell_type": "code",
   "execution_count": 5,
   "metadata": {
    "id": "8exVjw0_dL9D",
    "tags": []
   },
   "outputs": [],
   "source": [
    "def dist(p1, p2):\n",
    "    return abs(p1 - p2)"
   ]
  },
  {
   "cell_type": "markdown",
   "metadata": {
    "id": "jY3C9-wrdL9D"
   },
   "source": [
    "Using this distance function, we can define the **cost** of a route to be the travel time between the end of each path and the start of the next one. A pen plotter starts and returns to an **origin point**, so to fully account for the cost we also need to add the distance to and from the origin."
   ]
  },
  {
   "cell_type": "code",
   "execution_count": 6,
   "metadata": {
    "id": "yhcndCnXdL9D",
    "tags": []
   },
   "outputs": [],
   "source": [
    "def cost_of_route(path, origin=0.+0j):\n",
    "    # Cost from the origin to the start of the first path\n",
    "    cost = dist(origin, path[0].start)\n",
    "    # Cost between the end of each path and the start of the next\n",
    "    cost += sum(\n",
    "        dist(path[i].end, path[i+1].start) for i in range(len(path) - 1)\n",
    "    )\n",
    "    # Cost to return back to the origin\n",
    "    cost += dist(path[-1].end, origin)\n",
    "    return cost"
   ]
  },
  {
   "cell_type": "markdown",
   "metadata": {
    "id": "xsU2zuovdL9E"
   },
   "source": [
    "We can now calculate the cost of the route. This will give us a perspective of how much things improve (or don't improve; I'm not giving spoilers.)"
   ]
  },
  {
   "cell_type": "code",
   "execution_count": 7,
   "metadata": {
    "id": "2DU3Fh7edL9E",
    "outputId": "68fa64e3-a10f-4776-cde1-a97f54878703"
   },
   "outputs": [],
   "source": [
    "# initial_cost = cost_of_route(paths)\n",
    "# initial_cost"
   ]
  },
  {
   "cell_type": "markdown",
   "metadata": {
    "id": "aOy9kdOidL9E"
   },
   "source": [
    "## Building a Graph\n",
    "\n",
    "Now we have a cost function that we hope to reduce by re-ordering the paths. But before we jump into that, here's another thing to consider: in addition to re-ordering the paths, we can also reverse them. In order to take advantage of that fact, we need to keep track of both the order of the paths and whether or not each one is reversed.\n",
    "\n",
    "Rather than storing the direction explicitly, I find it easier to represent the problem by creating a graph and adding nodes to the graph for each path *and its reverse*. A valid drawing order is then a cycle through the graph, starting and returning to the origin (which is also represented as a node in the graph), which visits **exactly one** node belonging to each (path, reversed path) pair.\n",
    "\n",
    "To build this graph, we construct a list of nodes like this: `[origin, path[0], path[0] reversed, path[1], path[1] reversed, ...]`, that is, `self.endpoints[0]` represents the origin, and then each pair of nodes that follows represents the two directions of one path. Excepting the origin (0), paths with an **odd index** correspond to **unmodified** paths from the original drawing, and paths with an **even index** correspond to their **reversed** versions."
   ]
  },
  {
   "cell_type": "code",
   "execution_count": 8,
   "metadata": {
    "id": "iyyZ4cjddL9F",
    "tags": []
   },
   "outputs": [],
   "source": [
    "class PathGraph:\n",
    "    # The origin is always at index 0.\n",
    "    ORIGIN = 0\n",
    "    \n",
    "    def __init__(self, paths, origin=0.+0j):\n",
    "        \"\"\"Constructs a PathGraph from the output of svgpathtools.svg2paths.\"\"\"\n",
    "        self.paths = paths\n",
    "        # For any node i, endpoints[i] will be a pair containing that node's\n",
    "        # start and end coordinates, respectively. For i==0 this represents\n",
    "        # the origin.\n",
    "        self.endpoints = [(origin, origin)]\n",
    "        \n",
    "        for path in paths:\n",
    "            # For each path in the original list of paths,\n",
    "            # create nodes for the path as well as its reverse.\n",
    "            self.endpoints.append((path.start, path.end))\n",
    "            self.endpoints.append((path.end, path.start))\n",
    "    \n",
    "    def get_path(self, i):\n",
    "        \"\"\"Returns the path corresponding to the node i.\"\"\"\n",
    "        index = (i - 1) // 2\n",
    "        reverse = (i - 1) % 2\n",
    "        path = self.paths[index]\n",
    "        if reverse:\n",
    "            return path.reversed()\n",
    "        else:\n",
    "            return path\n",
    "    \n",
    "    def cost(self, i, j):\n",
    "        \"\"\"Returns the distance between the end of path i\n",
    "        and the start of path j.\"\"\"\n",
    "        return dist(self.endpoints[i][1], self.endpoints[j][0])\n",
    "    \n",
    "    def get_coordinates(self, i, end=False):\n",
    "        \"\"\"Returns the starting coordinates of node i as a pair,\n",
    "        or the end coordinates iff end is True.\"\"\"\n",
    "        if end:\n",
    "            endpoint = self.endpoints[i][1]\n",
    "        else:\n",
    "            endpoint = self.endpoints[i][0]\n",
    "        return (endpoint.real, endpoint.imag)\n",
    "    \n",
    "    def iter_starts_with_index(self):\n",
    "        \"\"\"Returns a generator over (index, start coordinate) pairs,\n",
    "        excluding the origin.\"\"\"\n",
    "        for i in range(1, len(self.endpoints)):\n",
    "            yield i, self.get_coordinates(i)\n",
    "    \n",
    "    def get_disjoint(self, i):\n",
    "        \"\"\"For the node i, returns the index of the node associated with\n",
    "        its path's opposite direction.\"\"\"\n",
    "        return ((i-1) ^ 1) + 1\n",
    "    \n",
    "    def iter_disjunctions(self):\n",
    "        \"\"\"Returns a generator over 2-element lists of indexes which must\n",
    "        be mutually exclusive in a solution (i.e. pairs of nodes which represent\n",
    "        the same path in opposite directions.)\"\"\"\n",
    "        for i in range(1, len(self.endpoints), 2):\n",
    "            yield [i, self.get_disjoint(i)]\n",
    "    \n",
    "    def num_nodes(self):\n",
    "        \"\"\"Returns the number of nodes in the graph (including the origin.)\"\"\"\n",
    "        return len(self.endpoints)"
   ]
  },
  {
   "cell_type": "code",
   "execution_count": 9,
   "metadata": {
    "id": "T0fRS9NjdL9G",
    "tags": []
   },
   "outputs": [],
   "source": [
    "# path_graph = PathGraph(paths)"
   ]
  },
  {
   "cell_type": "markdown",
   "metadata": {
    "id": "QgmUX8WzdL9G"
   },
   "source": [
    "## A Greedy Approach\n",
    "\n",
    "Using this graph, we can implement a greedy solution. Here's how it works:\n",
    "1. Start at the origin.\n",
    "2. Move to the nearest node. Add the path represented by that node to the end of the solution.\n",
    "3. Remove both the node you are on, and the node corresponding to the opposite direction of the same path.\n",
    "4. If there are nodes remaining, return to 2.\n",
    "\n",
    "The second step requires a bit of nuance: the naive approach of looping over every point to find the nearest can get computationally expensive. Instead, we'll use a spatial index called an [R-tree](https://en.wikipedia.org/wiki/R-tree) which is good at quickly finding the nearest node to a point.\n",
    "\n",
    "The `PathIndex` class below takes a `PathGraph` and turns it into a data structure that can be quickly queried to find the nearest point to a given coordinate."
   ]
  },
  {
   "cell_type": "code",
   "execution_count": 10,
   "metadata": {
    "id": "WZ6gYLBGdL9G",
    "tags": []
   },
   "outputs": [],
   "source": [
    "class PathIndex:\n",
    "    def __init__(self, path_graph):\n",
    "        self.idx = rtree.index.Index()\n",
    "        self.path_graph = path_graph\n",
    "        for index, coordinate in path_graph.iter_starts_with_index():\n",
    "            self.idx.add(index, coordinate + coordinate)\n",
    "    \n",
    "    def get_nearest(self, coordinate):\n",
    "        return next(self.idx.nearest(coordinate))\n",
    "    \n",
    "    def delete(self, index):\n",
    "        coordinate = self.path_graph.get_coordinates(index)\n",
    "        self.idx.delete(index, coordinate + coordinate)\n",
    "    \n",
    "    def delete_pair(self, index):\n",
    "        self.delete(index)\n",
    "        self.delete(self.path_graph.get_disjoint(index))"
   ]
  },
  {
   "cell_type": "markdown",
   "metadata": {
    "id": "wWgnZeuNdL9H"
   },
   "source": [
    "The `greedy_walk` function implements the logic mentioned earlier: we start at the origin, then find the nearest point and move there, deleting nodes along the way."
   ]
  },
  {
   "cell_type": "code",
   "execution_count": 11,
   "metadata": {
    "id": "8D7O2a84dL9H",
    "tags": []
   },
   "outputs": [],
   "source": [
    "def greedy_walk(path_graph):\n",
    "    path_index = PathIndex(path_graph)\n",
    "    location = path_graph.get_coordinates(path_graph.ORIGIN)\n",
    "    while True:\n",
    "        try:\n",
    "            next_point = path_index.get_nearest(location)\n",
    "        except StopIteration:\n",
    "            break\n",
    "        location = path_graph.get_coordinates(next_point, True)\n",
    "        path_index.delete_pair(next_point)\n",
    "        yield next_point"
   ]
  },
  {
   "cell_type": "code",
   "execution_count": 12,
   "metadata": {
    "id": "N3LEI0kzdL9H",
    "tags": []
   },
   "outputs": [],
   "source": [
    "# greedy_solution = list(greedy_walk(path_graph))"
   ]
  },
  {
   "cell_type": "markdown",
   "metadata": {
    "id": "OD_cLXB5dL9I"
   },
   "source": [
    "Now that we have a solution, we want to ensure that it is “valid”, i.e. that it visits all of the original paths exactly once (possibly in reverse). We also want to see if it improved on the original solution."
   ]
  },
  {
   "cell_type": "code",
   "execution_count": 13,
   "metadata": {
    "id": "FLq46_VTdL9I",
    "tags": []
   },
   "outputs": [],
   "source": [
    "def check_valid_solution(solution, graph):\n",
    "    \"\"\"Check that the solution is valid: every path is visited exactly once.\"\"\"\n",
    "    expected = Counter(\n",
    "        i for (i, _) in graph.iter_starts_with_index()\n",
    "        if i < graph.get_disjoint(i)\n",
    "    )\n",
    "    actual = Counter(\n",
    "        min(i, graph.get_disjoint(i))\n",
    "        for i in solution\n",
    "    )\n",
    "\n",
    "    difference = Counter(expected)\n",
    "    difference.subtract(actual)\n",
    "    difference = {k:v for k,v in difference.items() if v != 0}\n",
    "    if difference:\n",
    "        print('Solution is not valid!'\n",
    "              'Difference in node counts (expected - actual): {}'.format(difference))\n",
    "        return False\n",
    "    return True\n",
    "\n",
    "def get_route_from_solution(solution, graph):\n",
    "    \"\"\"Converts a solution (a list of node indices) into a list\n",
    "    of paths suitable for rendering.\"\"\"\n",
    "    # As a guard against comparing invalid \"solutions\",\n",
    "    # ensure that this solution is valid.\n",
    "    assert check_valid_solution(solution, graph)\n",
    "    return [graph.get_path(i) for i in solution]"
   ]
  },
  {
   "cell_type": "code",
   "execution_count": 14,
   "metadata": {
    "id": "zZmF0oE5dL9I",
    "tags": []
   },
   "outputs": [],
   "source": [
    "# greedy_route = get_route_from_solution(greedy_solution, path_graph)"
   ]
  },
  {
   "cell_type": "code",
   "execution_count": 15,
   "metadata": {},
   "outputs": [],
   "source": [
    "# len(greedy_route)"
   ]
  },
  {
   "cell_type": "markdown",
   "metadata": {
    "id": "dHkBWNTndL9I"
   },
   "source": [
    "Let's calculate the cost of this solution:"
   ]
  },
  {
   "cell_type": "code",
   "execution_count": 16,
   "metadata": {
    "id": "tiBLqF2BdL9I",
    "outputId": "d9804ce2-83b6-4e7d-a23d-27b40f5d5263"
   },
   "outputs": [],
   "source": [
    "# greedy_cost = cost_of_route(greedy_route)\n",
    "# greedy_cost"
   ]
  },
  {
   "cell_type": "code",
   "execution_count": 17,
   "metadata": {
    "id": "xH9Q3PiZdL9I",
    "outputId": "2b6005ad-b6c7-4b1f-f299-1e9098021c24"
   },
   "outputs": [],
   "source": [
    "# initial_cost / greedy_cost"
   ]
  },
  {
   "cell_type": "markdown",
   "metadata": {
    "id": "R3to4PjedL9J"
   },
   "source": [
    "That's more than a 5x improvement, pretty good! Let's visualize it:"
   ]
  },
  {
   "cell_type": "code",
   "execution_count": 22,
   "metadata": {
    "id": "EWTDd6apdL9J",
    "outputId": "bc7112e3-9b01-4445-e758-e4dfde3469a1"
   },
   "outputs": [],
   "source": [
    "# visualize_pen_transits(greedy_route)"
   ]
  },
  {
   "cell_type": "markdown",
   "metadata": {},
   "source": [
    "# All in one line"
   ]
  },
  {
   "cell_type": "code",
   "execution_count": 21,
   "metadata": {},
   "outputs": [],
   "source": [
    "file_name = 'generated_drawings/floyd_stippling.svg'\n",
    "paths, _ = svgpathtools.svg2paths(file_name)\n",
    "path_graph = PathGraph(paths)\n",
    "greedy_solution = list(greedy_walk(path_graph))\n",
    "greedy_route = get_route_from_solution(greedy_solution, path_graph)\n",
    "svgpathtools.wsvg(greedy_route, filename=\"./greedy_route_out.svg\") #Save the path"
   ]
  },
  {
   "cell_type": "code",
   "execution_count": 36,
   "metadata": {},
   "outputs": [],
   "source": [
    "# print(type(greedy_route[0]))\n",
    "# print([a_path * 4 for a_path in greedy_route])"
   ]
  },
  {
   "cell_type": "markdown",
   "metadata": {
    "id": "4l_BDRDLdL9K"
   },
   "source": [
    "## Limitations of Greedy Approach\n",
    "\n",
    "The problem with a greedy approach ([Gordon Gekko notwithstanding](https://www.youtube.com/watch?v=VVxYOQS6ggk)) is that we are choosing what's locally optimal at each point on the walk without concern for the side-effects of reducing the available choices later on. This problem becomes apparent if we plot the amount of ink on the page (i.e. the travel distance with the pen down) versus the pen-up transit distance."
   ]
  },
  {
   "cell_type": "code",
   "execution_count": 31,
   "metadata": {
    "id": "KG_x1LfTdL9K",
    "tags": []
   },
   "outputs": [],
   "source": [
    "%matplotlib inline\n",
    "import matplotlib.pyplot as plt\n",
    "plt.style.use('bmh')"
   ]
  },
  {
   "cell_type": "code",
   "execution_count": 32,
   "metadata": {
    "id": "cru7iguidL9K",
    "tags": []
   },
   "outputs": [],
   "source": [
    "def ink_transit_curve(route, origin=0.+0.j, label=None):\n",
    "    ink_distance = 0.\n",
    "    transit_distance = 0.\n",
    "    curve = list()\n",
    "    last_end = origin\n",
    "    \n",
    "    for path in route:\n",
    "        transit_distance += dist(last_end, path.start)\n",
    "        ink_distance += path.length()\n",
    "        curve.append((transit_distance, ink_distance))\n",
    "        last_end = path.end\n",
    "    transit_distance += dist(last_end, origin)\n",
    "    curve.append((transit_distance, ink_distance))\n",
    "    \n",
    "    plt.plot(*zip(*curve), label=label)\n",
    "    plt.xlabel('Pen-up travel distance')\n",
    "    plt.ylabel('Ink on page')"
   ]
  },
  {
   "cell_type": "code",
   "execution_count": 33,
   "metadata": {
    "id": "NBPq_hlidL9K",
    "outputId": "93287e3e-addf-48bb-f70e-b26abc3b397a"
   },
   "outputs": [
    {
     "data": {
      "image/png": "[encoded data removed]",
      "text/plain": [
       "<Figure size 432x288 with 1 Axes>"
      ]
     },
     "metadata": {
      "needs_background": "light"
     },
     "output_type": "display_data"
    }
   ],
   "source": [
    "ink_transit_curve(greedy_route)"
   ]
  },
  {
   "cell_type": "markdown",
   "metadata": {
    "id": "6vbJblNFdL9K"
   },
   "source": [
    "As you can see, the solution that this produces starts out pretty efficient with transit distance: the slope of the line is initially about 3:1, indicating that the pen is down three times as often as it is up. However, notice that the efficiency tails off towards the end of the plot: adding the last bits of ink to the page requires thrashing around the drawing area to visit all the islands we've neglected. Let's see if we can improve on this."
   ]
  },
  {
   "cell_type": "markdown",
   "metadata": {
    "id": "oPh1z_vUdL9K"
   },
   "source": [
    "## A More Optimal Approach\n",
    "\n",
    "As hinted earlier, the optimal plotting problem is tantalizingly similar to the [Traveling Salesman Problem](https://en.wikipedia.org/wiki/Travelling_salesman_problem) (TSP), which looks for the shortest path that makes a complete cycle through a graph visiting every node exactly once. In fact, it can be reduced to a TSP by constructing the graph differently. My initial approach was to construct the problem as a TSP and throw [or-tools](https://github.com/google/or-tools) package's TSP solver at it. This turned out to be a false path, though, because the construction I came up with didn't optimize well.\n",
    "\n",
    "Then I started digging through the code and noticed that the solver allows [disjunction](https://github.com/google/or-tools/blob/master/ortools/constraint_solver/routing.h#L510) constraints. This means that you can give it a pair (or more) of nodes and tell the solver to generate a route that visits *exactly one* of them. Another important feature of or-tools is that the distance function can be asymmetric. We need this since the distance function we are optimizing is the *end* of the first path to the *start* of the second, which is different if we swap the order.\n",
    "\n",
    "What this all adds up to is that we can use the same graph structure as for the greedy approach, and as long as we make sure to tell the solver that the pairs of paths are mutually exclusive, it *just works!*"
   ]
  },
  {
   "cell_type": "code",
   "execution_count": 34,
   "metadata": {
    "id": "voeY8VhRdL9L",
    "tags": []
   },
   "outputs": [],
   "source": [
    "from ortools.constraint_solver import pywrapcp\n",
    "from ortools.constraint_solver import routing_enums_pb2\n",
    "from time import time"
   ]
  },
  {
   "cell_type": "code",
   "execution_count": 35,
   "metadata": {
    "id": "XoIkXvlNdL9L",
    "tags": []
   },
   "outputs": [],
   "source": [
    "def vrp_solver(path_graph, initial_solution=None, runtime_seconds=60):\n",
    "    \"\"\"Solve a path using or-tools' Vehicle Routing Problem solver.\n",
    "    Params:\n",
    "        path_graph        the PathGraph representing the problem\n",
    "        initial_solution  a solution to start with (list of indices, not\n",
    "                          including the origin)\n",
    "        runtime_seconds   how long to search before returning\n",
    "        \n",
    "    Returns: a (solution, curve) pair where the solution is a list of\n",
    "        indices and the curve is a list of (clock seconds, best solution)\n",
    "        pairs representing the progress of the solution over time.\n",
    "    \"\"\"\n",
    "    manager = pywrapcp.RoutingIndexManager(path_graph.num_nodes(), 1, path_graph.ORIGIN)\n",
    "    # Create the VRP routing model. The 1 means we are only looking\n",
    "    # for a single path.\n",
    "    routing = pywrapcp.RoutingModel(manager)\n",
    "    \n",
    "    # For every path node, add a disjunction so that we do not also\n",
    "    # draw its reverse.\n",
    "    for disjunction in path_graph.iter_disjunctions():\n",
    "        routing.AddDisjunction(disjunction)\n",
    "    \n",
    "    # Wrap the distance function so that it converts to an integer,\n",
    "    # as or-tools requires. Values are multiplied by COST_MULTIPLIER\n",
    "    # prior to conversion to reduce the loss of precision.\n",
    "    COST_MULTIPLIER = 1e4\n",
    "    def distance(i, j):\n",
    "        return int(path_graph.cost(i,j) * COST_MULTIPLIER)\n",
    "    print(\"setting cost\")\n",
    "    print(routing)\n",
    "    transit_callback_index = routing.RegisterTransitCallback(distance)\n",
    "    routing.SetArcCostEvaluatorOfAllVehicles(transit_callback_index)\n",
    "    \n",
    "    # In order to produce a graph of the search progress, keep track\n",
    "    # of the start time and (time, value) pairs.\n",
    "    start_time = time()\n",
    "    solution_curve = list()\n",
    "    def record_solution():\n",
    "        t = time() - start_time\n",
    "        solution_curve.append((t, routing.CostVar().Max() / COST_MULTIPLIER))\n",
    "    print(\"adding callbacks\")\n",
    "    routing.AddAtSolutionCallback(record_solution)\n",
    "    \n",
    "    # If we weren't supplied with a solution initially, construct one by taking\n",
    "    # all of the paths in their original direction, in their original order.\n",
    "    if not initial_solution:\n",
    "        initial_solution = [i for i, _ in path_graph.iter_disjunctions()]\n",
    "    \n",
    "    # Compute the cost of the initial solution. This is the number we hope to\n",
    "    # improve on.\n",
    "    print(\"read assignment\")\n",
    "    print(\"here is the initial solution\")\n",
    "#     print(initial_solution)\n",
    "    initial_assignment = routing.ReadAssignmentFromRoutes([initial_solution], False)\n",
    "    return initial_assignment, routing, manager\n",
    "\n",
    "def continue_vrp_solver(initial_assignment, routing, manager, runtime_seconds = None):\n",
    "    COST_MULTIPLIER = 1e4\n",
    "\n",
    "    print('Initial distance:', initial_assignment.ObjectiveValue() / COST_MULTIPLIER)\n",
    "    \n",
    "    # Set the parameters of the search.\n",
    "    search_parameters = pywrapcp.DefaultRoutingSearchParameters()\n",
    "    search_parameters.time_limit.seconds = runtime_seconds\n",
    "    search_parameters.local_search_metaheuristic = (\n",
    "            routing_enums_pb2.LocalSearchMetaheuristic.GUIDED_LOCAL_SEARCH)\n",
    "    \n",
    "    # Run the optimizer and report the final distance.\n",
    "    assignment = routing.SolveFromAssignmentWithParameters(initial_assignment, search_parameters)\n",
    "    print('Final distance:', assignment.ObjectiveValue() / COST_MULTIPLIER)\n",
    "    \n",
    "    # Iterate over the result to produce a list to return as the solution.\n",
    "    solution = []\n",
    "    index = routing.Start(0)\n",
    "    while not routing.IsEnd(index):\n",
    "        index = assignment.Value(routing.NextVar(index))\n",
    "        node = manager.IndexToNode(index)\n",
    "        if node != 0:\n",
    "            # For compatibility with the greedy solution, exclude the origin.\n",
    "            solution.append(node)\n",
    "    return solution"
   ]
  },
  {
   "cell_type": "markdown",
   "metadata": {
    "id": "ffv9mwoidL9L"
   },
   "source": [
    "We'll prime the solver with the greedy solution to speed things up. It might seem counter-intuitive that the solver *wouldn't* start by doing its own greedy search, but remember that we had to use the raw coordinates in order to build the R-tree to run the greedy algorithm efficiently. The solver doesn't have access to the raw coordinates, since it is generalized to problems that don't use Euclidean distance."
   ]
  },
  {
   "cell_type": "code",
   "execution_count": null,
   "metadata": {
    "id": "Rd7Vh664dL9L",
    "outputId": "2098074a-dc2e-4a22-c559-5d826ca605c7"
   },
   "outputs": [
    {
     "name": "stdout",
     "output_type": "stream",
     "text": [
      "setting cost\n",
      "<ortools.constraint_solver.pywrapcp.RoutingModel; proxy of <Swig Object of type 'operations_research::RoutingModel *' at 0x0000023D399A9990> >\n",
      "adding callbacks\n",
      "read assignment\n",
      "here is the initial solution\n"
     ]
    }
   ],
   "source": [
    "initial_assignment, routing, manager = vrp_solver(path_graph, greedy_solution, runtime_seconds=1200)"
   ]
  },
  {
   "cell_type": "code",
   "execution_count": null,
   "metadata": {},
   "outputs": [],
   "source": [
    "vrp_solution = continue_vrp_solver(initial_assignment, routing, manager, runtime_seconds=1200)"
   ]
  },
  {
   "cell_type": "markdown",
   "metadata": {
    "id": "ZW2WBJUCdL9L"
   },
   "source": [
    "Note that the distances here will be slightly off, due to the loss in precision that comes with converting to integers. To get the actual figure (and also verify that the solution is valid), we can use the same methods as before:"
   ]
  },
  {
   "cell_type": "code",
   "execution_count": null,
   "metadata": {
    "id": "XTiqWDSndL9L",
    "outputId": "7a9cc221-78f7-4ff6-b541-9a79d6c6f6dd"
   },
   "outputs": [],
   "source": [
    "vrp_route = get_route_from_solution(vrp_solution, path_graph)\n",
    "vrp_cost = cost_of_route(vrp_route)\n",
    "vrp_cost"
   ]
  },
  {
   "cell_type": "code",
   "execution_count": null,
   "metadata": {
    "id": "DErhhvx5dL9M",
    "outputId": "b5dfaee5-52bc-41c9-e5ed-7d8c3661e81b"
   },
   "outputs": [],
   "source": [
    "vrp_cost / greedy_cost"
   ]
  },
  {
   "cell_type": "markdown",
   "metadata": {
    "id": "UvYem6AXdL9M"
   },
   "source": [
    "As you can see, there is a real improvement over the greedy algorithm, even if it's not on the same order as the big improvement we got from the greedy approach.\n",
    "\n",
    "Here's the result, visualized:"
   ]
  },
  {
   "cell_type": "code",
   "execution_count": null,
   "metadata": {
    "id": "PhG5oTvQdL9M",
    "outputId": "4367b9d1-c0f1-4fda-a6fd-a95d56e7b03f"
   },
   "outputs": [],
   "source": [
    "visualize_pen_transits(vrp_route)"
   ]
  },
  {
   "cell_type": "markdown",
   "metadata": {
    "id": "g_Kft1GidL9N"
   },
   "source": [
    "## Plotting the Optimization Curve\n",
    "\n",
    "In addition to returning the solution, the `vrp_solver` function returns a list of the costs of solutions it found during the optimization process. Visualizing it gives us an indicator of whether we would benefit from increasing the runtime."
   ]
  },
  {
   "cell_type": "code",
   "execution_count": null,
   "metadata": {
    "id": "tUcfmW5XdL9N"
   },
   "outputs": [],
   "source": [
    "%matplotlib inline\n",
    "import matplotlib.pyplot as plt"
   ]
  },
  {
   "cell_type": "code",
   "execution_count": null,
   "metadata": {
    "id": "f3AxB3qPdL9N",
    "outputId": "737c1c35-72da-48a8-ca7b-976643f332ed",
    "scrolled": true
   },
   "outputs": [],
   "source": [
    "plt.plot(*zip(*curve))\n",
    "plt.ylabel('Pen-up distance')\n",
    "plt.xlabel('Time');"
   ]
  },
  {
   "cell_type": "markdown",
   "metadata": {
    "id": "QKgTfs_jdL9N"
   },
   "source": [
    "## Comparing to the Greedy Solution\n",
    "\n",
    "We can use the `ink_transit_curve` function from before to see if we have improved over the problem of the greedy solution's efficiency degrading over time. As you can see, the two approaches are roughly as efficient initially, but the vsp line maintains its slope for longer while the greedy line's slope falls off."
   ]
  },
  {
   "cell_type": "code",
   "execution_count": null,
   "metadata": {
    "id": "AWGWg1gCdL9N",
    "outputId": "714a908b-bfc5-4983-ebfc-234de419294b",
    "scrolled": true
   },
   "outputs": [],
   "source": [
    "ink_transit_curve(greedy_route, label='greedy')\n",
    "ink_transit_curve(vrp_route, label='vrp')\n",
    "plt.legend();"
   ]
  },
  {
   "cell_type": "markdown",
   "metadata": {
    "id": "4ULuDkRqdL9O"
   },
   "source": [
    "The real gain is at the end: notice that the greedy line continues after the vrp line ends. That's where it's making big moves just to draw the remaining short paths."
   ]
  },
  {
   "cell_type": "markdown",
   "metadata": {
    "id": "kyarNrVUdL9O"
   },
   "source": [
    "## Conclusion\n",
    "\n",
    "As we have seen, the greedy step alone produced the vast majority of the efficiency improvement for this particular image. My take-away is that a greedy optimizer should be part of every plotter's toolkit, but that more extreme optimization doesn't add much. That said, there's only so much that can be concluded from looking at a single plot, and it is possible that certain plotting techniques are more likely than others to lead to plots that “trap” a greedy optimizer into an inefficient solution."
   ]
  }
 ],
 "metadata": {
  "colab": {
   "name": "Optimizing Plots with a TSP Solver.ipynb",
   "provenance": []
  },
  "date": "2018-03-25",
  "kernelspec": {
   "display_name": "Python 3",
   "language": "python",
   "name": "python3"
  },
  "language_info": {
   "codemirror_mode": {
    "name": "ipython",
    "version": 3
   },
   "file_extension": ".py",
   "mimetype": "text/x-python",
   "name": "python",
   "nbconvert_exporter": "python",
   "pygments_lexer": "ipython3",
   "version": "3.9.2"
  },
  "title": "Optimizing Plots with a TSP Solver"
 },
 "nbformat": 4,
 "nbformat_minor": 4
}
